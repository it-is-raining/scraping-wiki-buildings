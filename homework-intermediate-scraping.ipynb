{
 "cells": [
  {
   "cell_type": "markdown",
   "id": "326c68ea-e534-4c7b-92cd-b152e2ab28f3",
   "metadata": {},
   "source": [
    "# Intermediate Scraping Homework: Wikipedia Table\n",
    "\n",
    "In this assignment, we'll be extracting data from Wikipedia's table of the tallest buildings in Brooklyn: https://en.wikipedia.org/wiki/List_of_tallest_buildings_in_Brooklyn"
   ]
  },
  {
   "cell_type": "markdown",
   "id": "ee21190f-85e3-411c-ab91-a394747c6ee3",
   "metadata": {},
   "source": [
    "### 0) Setup\n",
    "\n",
    "Import `requests`, `BeautifulSoup`, and `pandas`. Although this homework uses `BeautifulSoup`, you can choose to use `lxml` instead, if you prefer."
   ]
  },
  {
   "cell_type": "code",
   "execution_count": 4,
   "id": "ac4bb8ca-0a2e-4880-93a1-781d725b7c8b",
   "metadata": {},
   "outputs": [],
   "source": [
    "import requests\n",
    "from bs4 import BeautifulSoup\n",
    "import pandas as pd "
   ]
  },
  {
   "cell_type": "markdown",
   "id": "1057c416-4fe6-435c-9feb-aee4ee3e1d4e",
   "metadata": {},
   "source": [
    "### 1) Grab the HTML for the webpage linked above\n",
    "\n",
    "Use `requests` to get the HTML, assigning it to a variable"
   ]
  },
  {
   "cell_type": "code",
   "execution_count": 5,
   "id": "249f7c7c-f999-45a4-bbd1-553d08ecb6f3",
   "metadata": {},
   "outputs": [],
   "source": [
    "url = \"https://en.wikipedia.org/wiki/List_of_tallest_buildings_in_Brooklyn\"\n",
    "html = requests.get(url).text"
   ]
  },
  {
   "cell_type": "markdown",
   "id": "92457832-c428-42dc-9f57-7dd9d037856b",
   "metadata": {},
   "source": [
    "### 2) Convert the HTML into a `BeautifulSoup` object"
   ]
  },
  {
   "cell_type": "code",
   "execution_count": 6,
   "id": "31b1c404-b7dc-4842-bd13-c75e77b51477",
   "metadata": {},
   "outputs": [],
   "source": [
    "soup = BeautifulSoup(html)"
   ]
  },
  {
   "cell_type": "code",
   "execution_count": 7,
   "id": "0b5b6dd6-079d-4e01-a11b-088e39ba1f5d",
   "metadata": {},
   "outputs": [
    {
     "data": {
      "text/plain": [
       "bs4.BeautifulSoup"
      ]
     },
     "execution_count": 7,
     "metadata": {},
     "output_type": "execute_result"
    }
   ],
   "source": [
    "type(soup)"
   ]
  },
  {
   "cell_type": "markdown",
   "id": "a5c1fd45-4005-48d7-bca2-c8c523b1c060",
   "metadata": {},
   "source": [
    "### 3) Use `.select(...)` (and `[0]`) to select the main table\n",
    "\n",
    "That's the one directly under the \"Tallest buildings\" heading.\n",
    "\n",
    "Print out the first 100 characters of text from the table to make sure you have the right one."
   ]
  },
  {
   "cell_type": "code",
   "execution_count": 8,
   "id": "e7791e7f-c6f3-4f2a-bd7e-b55c3b40022d",
   "metadata": {},
   "outputs": [
    {
     "data": {
      "text/plain": [
       "\"\\n\\nRank\\n\\nName[a]\\n\\nImage\\n\\nHeightft (m)\\n\\nFloors\\n\\nYear completed\\n\\nNotes\\n\\n\\n1\\n\\nThe Brooklyn Tower\\n\\n\\n\\n1,066 (325)\\n\\n93\\n\\n2022\\n\\nTopped out in October 2021.[2][23][24][25]\\n\\n\\n2\\n\\nBrooklyn Point\\n\\n\\n\\n720 (219)\\n\\n68\\n\\n2019\\n\\nThe final phase of Extell's City Point development; topped out in April 2019, it is now the second tallest building in Brooklyn.[26] Also known as 138 Willoughby Street,[27][28] 1 City Point,[29] and City Point Tower III.[29][30][31]\\n\\n\\n3\\n\\n11 Hoyt\\n\\n\\n\\n626 (191)\\n\\n51\\n\\n2020\\n\\nTopped out in June 2019.\""
      ]
     },
     "execution_count": 8,
     "metadata": {},
     "output_type": "execute_result"
    }
   ],
   "source": [
    "table = soup.select(\".wikitable\") [0]\n",
    "\n",
    "\n",
    "#How do I print out first 100 characters?\n",
    "table.text[:100]\n",
    "table.text[:500]"
   ]
  },
  {
   "cell_type": "code",
   "execution_count": 9,
   "id": "b18a1151-0591-42e2-8cb9-560142095c46",
   "metadata": {},
   "outputs": [
    {
     "data": {
      "text/plain": [
       "8661"
      ]
     },
     "execution_count": 9,
     "metadata": {},
     "output_type": "execute_result"
    }
   ],
   "source": [
    "len(table.text)"
   ]
  },
  {
   "cell_type": "markdown",
   "id": "e4181ff2-64d6-47e7-8cb0-4bcb453b5a24",
   "metadata": {},
   "source": [
    "### 4) Use `.select(...)` (and `[0]`) again to select the table's first row\n",
    "\n",
    "... which is its header. (Reminder that the `<thead>` tag is optional. Wikipedia tables don't use it.)"
   ]
  },
  {
   "cell_type": "code",
   "execution_count": 1,
   "id": "c46fac94-e149-4ac2-b784-8d73557a103d",
   "metadata": {},
   "outputs": [],
   "source": [
    "#table"
   ]
  },
  {
   "cell_type": "code",
   "execution_count": 10,
   "id": "073e34ce-0836-4657-a4ea-2b22c8deb4ab",
   "metadata": {},
   "outputs": [],
   "source": [
    "rows = table.select(\"tr\")[0]"
   ]
  },
  {
   "cell_type": "code",
   "execution_count": 2,
   "id": "a9bdd1c4-dcd9-4e12-878d-643a353cd6dd",
   "metadata": {},
   "outputs": [],
   "source": [
    "#table"
   ]
  },
  {
   "cell_type": "code",
   "execution_count": 11,
   "id": "944bdd62-0e32-4a2b-a5df-398b343664a3",
   "metadata": {},
   "outputs": [
    {
     "data": {
      "text/plain": [
       "[<th>Rank\n",
       " </th>,\n",
       " <th>Name<style data-mw-deduplicate=\"TemplateStyles:r1041539562\">.mw-parser-output .citation{word-wrap:break-word}.mw-parser-output .citation:target{background-color:rgba(0,127,255,0.133)}</style><sup class=\"citation nobold\" id=\"ref_id1none\"><a href=\"#endnote_id1none\">[a]</a></sup>\n",
       " </th>,\n",
       " <th class=\"unsortable\">Image\n",
       " </th>,\n",
       " <th data-sort-type=\"number\">Height<br/><span style=\"font-size:85%;\">ft (m)</span>\n",
       " </th>,\n",
       " <th>Floors\n",
       " </th>,\n",
       " <th>Year completed\n",
       " </th>,\n",
       " <th class=\"unsortable\">Notes\n",
       " </th>]"
      ]
     },
     "execution_count": 11,
     "metadata": {},
     "output_type": "execute_result"
    }
   ],
   "source": [
    "rows.select(\"th\")"
   ]
  },
  {
   "cell_type": "code",
   "execution_count": 55,
   "id": "554aecaf-bdca-47a0-8f0c-3c820090abb3",
   "metadata": {},
   "outputs": [
    {
     "data": {
      "text/plain": [
       "14"
      ]
     },
     "execution_count": 55,
     "metadata": {},
     "output_type": "execute_result"
    }
   ],
   "source": [
    "len(rows)"
   ]
  },
  {
   "cell_type": "code",
   "execution_count": 17,
   "id": "3686abf5-0019-4ad6-b264-3229d7dc74b7",
   "metadata": {},
   "outputs": [
    {
     "data": {
      "text/plain": [
       "1"
      ]
     },
     "execution_count": 17,
     "metadata": {},
     "output_type": "execute_result"
    }
   ],
   "source": [
    "# len(table.select(\"tr\")[:1])"
   ]
  },
  {
   "cell_type": "markdown",
   "id": "10dec4f1-86fa-4776-8964-468aebe36b6a",
   "metadata": {},
   "source": [
    "### 5) Extract the column names from that header\n",
    "\n",
    "Use `.strip()` to remove any leading or trailing whitespace from the names.\n",
    "\n",
    "First, try doing this with a standard `for` loop:"
   ]
  },
  {
   "cell_type": "code",
   "execution_count": 13,
   "id": "fc38e978-2079-4fe7-bd4e-e4dc20cba4d4",
   "metadata": {},
   "outputs": [
    {
     "name": "stdout",
     "output_type": "stream",
     "text": [
      "\n",
      "Rank\n",
      "\n",
      "Name[a]\n",
      "\n",
      "Image\n",
      "\n",
      "Heightft (m)\n",
      "\n",
      "Floors\n",
      "\n",
      "Year completed\n",
      "\n",
      "Notes\n"
     ]
    }
   ],
   "source": [
    "for cell in rows:\n",
    "    print(cell.text.strip())"
   ]
  },
  {
   "cell_type": "markdown",
   "id": "226f4125",
   "metadata": {},
   "source": [
    "Try to do the same, but with a list comprehension:"
   ]
  },
  {
   "cell_type": "code",
   "execution_count": 14,
   "id": "999fbfb0",
   "metadata": {},
   "outputs": [
    {
     "data": {
      "text/plain": [
       "['',\n",
       " 'Rank',\n",
       " '',\n",
       " 'Name[a]',\n",
       " '',\n",
       " 'Image',\n",
       " '',\n",
       " 'Heightft (m)',\n",
       " '',\n",
       " 'Floors',\n",
       " '',\n",
       " 'Year completed',\n",
       " '',\n",
       " 'Notes']"
      ]
     },
     "execution_count": 14,
     "metadata": {},
     "output_type": "execute_result"
    }
   ],
   "source": [
    "#list comprehension: https://www.w3schools.com/python/python_lists_comprehension.asp\n",
    "\n",
    "[ cell.text for cell in rows ]\n",
    "\n",
    "#How to get rid of the \\n values? https://stackoverflow.com/questions/21325212/how-to-remove-n-from-end-of-strings-inside-a-list\n",
    "stripped = [cell.text.rstrip() for cell in rows]\n",
    "stripped\n",
    "\n",
    "# stripped_part_two = cell.text.rstrip()\n",
    "# stripped_part_two\n",
    "#^ I don't need to strip it again because I need the '' to separate the lines"
   ]
  },
  {
   "cell_type": "markdown",
   "id": "1c90e4fa-fb91-4cc4-bf2d-84d692bfc9b2",
   "metadata": {},
   "source": [
    "### 6) Select all non-header row *elements* from the table\n",
    "\n",
    "Since the header was the first row, you'll want to skip that one. How many rows are there? (Check with your eyes that this number matches what you deduce from the rankings column in the browser-rendered table.)"
   ]
  },
  {
   "cell_type": "code",
   "execution_count": 21,
   "id": "d0e982d7-4657-4ed3-ae4b-cf3e900c2763",
   "metadata": {},
   "outputs": [
    {
     "name": "stdout",
     "output_type": "stream",
     "text": [
      "There are 82 rows.\n"
     ]
    }
   ],
   "source": [
    "# len(rows)\n",
    "\n",
    "number_of_rows = len(table.select(\"tr\")[1:])\n",
    "\n",
    "print(f'There are {number_of_rows} rows.')"
   ]
  },
  {
   "cell_type": "code",
   "execution_count": 62,
   "id": "d355a73a-af4a-4f2f-aaef-1c4bc23cc762",
   "metadata": {},
   "outputs": [],
   "source": [
    "#Hmmm, it doesn't."
   ]
  },
  {
   "cell_type": "markdown",
   "id": "ae6ed103-7aa1-4d24-9842-20a7c51eb1f4",
   "metadata": {},
   "source": [
    "### 7) For each row, extract the text of each cell into a Python list\n",
    "\n",
    "First, try this as two nested `for` loops:"
   ]
  },
  {
   "cell_type": "code",
   "execution_count": 26,
   "id": "1e8e3195-be7c-41e8-9029-40676aa047f4",
   "metadata": {},
   "outputs": [],
   "source": [
    "row = table.select(\"tr\")\n",
    "#row"
   ]
  },
  {
   "cell_type": "code",
   "execution_count": 37,
   "id": "7cb57508",
   "metadata": {},
   "outputs": [],
   "source": [
    "#How to extract the text of each cell? - Is this for all the cells in all the rows? \n",
    "#We want an if statement - if it's a string, extract it and append to the list  \n",
    "\n",
    "for cell in row:\n",
    "    cell_text = []\n",
    "    for cell in table.select(\"td\"):\n",
    "        cell_text.append(cell.text.rstrip())\n",
    "\n",
    "#cell_text\n",
    "\n",
    "#screaming, idk what to do here :)\n",
    "#https://www.geeksforgeeks.org/python-nested-loops/\n",
    "\n"
   ]
  },
  {
   "cell_type": "code",
   "execution_count": 40,
   "id": "91e55095-77ac-4bae-a900-1436082e1f6d",
   "metadata": {},
   "outputs": [],
   "source": [
    "#cell_text"
   ]
  },
  {
   "cell_type": "markdown",
   "id": "5c75cc42",
   "metadata": {},
   "source": [
    "Try the same, but with two list comprehensions (one nested in the other):"
   ]
  },
  {
   "cell_type": "code",
   "execution_count": null,
   "id": "977867a9-10b6-4fab-b6e4-dfb4b57d3f56",
   "metadata": {},
   "outputs": [],
   "source": []
  },
  {
   "cell_type": "markdown",
   "id": "e8a5c07b-c3c3-40c2-8aeb-9a3f1e62a207",
   "metadata": {},
   "source": [
    "### 8) Turn the data you've extracted into a `pandas` `DataFrame`"
   ]
  },
  {
   "cell_type": "code",
   "execution_count": 42,
   "id": "0a907b1b-4e45-4ad6-af9e-c95d872803d1",
   "metadata": {},
   "outputs": [
    {
     "ename": "SyntaxError",
     "evalue": "invalid syntax (386989390.py, line 3)",
     "output_type": "error",
     "traceback": [
      "\u001b[0;36m  Cell \u001b[0;32mIn[42], line 3\u001b[0;36m\u001b[0m\n\u001b[0;31m    \"name\":\u001b[0m\n\u001b[0m          ^\u001b[0m\n\u001b[0;31mSyntaxError\u001b[0m\u001b[0;31m:\u001b[0m invalid syntax\n"
     ]
    }
   ],
   "source": [
    "# df = pd.DataFrame([{\n",
    "#     \"rank\":\n",
    "#     \"name\": \n",
    "#     \"height\": \n",
    "#     \"floors\":\n",
    "#     \"year_complete\":\n",
    "#     \"notes\":\n",
    "# }  for text in cell_text])\n",
    "\n",
    "# df\n",
    "                   "
   ]
  },
  {
   "cell_type": "code",
   "execution_count": 44,
   "id": "dccfddb6-bd10-4641-aa13-741065d9b0ae",
   "metadata": {},
   "outputs": [
    {
     "data": {
      "text/html": [
       "<div>\n",
       "<style scoped>\n",
       "    .dataframe tbody tr th:only-of-type {\n",
       "        vertical-align: middle;\n",
       "    }\n",
       "\n",
       "    .dataframe tbody tr th {\n",
       "        vertical-align: top;\n",
       "    }\n",
       "\n",
       "    .dataframe thead th {\n",
       "        text-align: right;\n",
       "    }\n",
       "</style>\n",
       "<table border=\"1\" class=\"dataframe\">\n",
       "  <thead>\n",
       "    <tr style=\"text-align: right;\">\n",
       "      <th></th>\n",
       "      <th>0</th>\n",
       "    </tr>\n",
       "  </thead>\n",
       "  <tbody>\n",
       "    <tr>\n",
       "      <th>0</th>\n",
       "      <td>1</td>\n",
       "    </tr>\n",
       "    <tr>\n",
       "      <th>1</th>\n",
       "      <td>The Brooklyn Tower</td>\n",
       "    </tr>\n",
       "    <tr>\n",
       "      <th>2</th>\n",
       "      <td></td>\n",
       "    </tr>\n",
       "    <tr>\n",
       "      <th>3</th>\n",
       "      <td>1,066 (325)</td>\n",
       "    </tr>\n",
       "    <tr>\n",
       "      <th>4</th>\n",
       "      <td>93</td>\n",
       "    </tr>\n",
       "    <tr>\n",
       "      <th>...</th>\n",
       "      <td>...</td>\n",
       "    </tr>\n",
       "    <tr>\n",
       "      <th>569</th>\n",
       "      <td>Upload image</td>\n",
       "    </tr>\n",
       "    <tr>\n",
       "      <th>570</th>\n",
       "      <td>295 (90)</td>\n",
       "    </tr>\n",
       "    <tr>\n",
       "      <th>571</th>\n",
       "      <td>30</td>\n",
       "    </tr>\n",
       "    <tr>\n",
       "      <th>572</th>\n",
       "      <td>2023</td>\n",
       "    </tr>\n",
       "    <tr>\n",
       "      <th>573</th>\n",
       "      <td>Topped out.[191][192]</td>\n",
       "    </tr>\n",
       "  </tbody>\n",
       "</table>\n",
       "<p>574 rows × 1 columns</p>\n",
       "</div>"
      ],
      "text/plain": [
       "                         0\n",
       "0                        1\n",
       "1       The Brooklyn Tower\n",
       "2                         \n",
       "3              1,066 (325)\n",
       "4                       93\n",
       "..                     ...\n",
       "569           Upload image\n",
       "570               295 (90)\n",
       "571                     30\n",
       "572                   2023\n",
       "573  Topped out.[191][192]\n",
       "\n",
       "[574 rows x 1 columns]"
      ]
     },
     "execution_count": 44,
     "metadata": {},
     "output_type": "execute_result"
    }
   ],
   "source": [
    "pd.DataFrame(cell_text)\n",
    "\n",
    "#help: https://jonathansoma.com/everything/scraping/convert-web-pages-to-csv/#__tabbed_2_3\n",
    "\n",
    "#Question: how do I structure this dataframe?"
   ]
  },
  {
   "cell_type": "markdown",
   "id": "536492f4-69f9-49ca-b22e-ce2d8beb85b6",
   "metadata": {},
   "source": [
    "### 9) Which years are represented by at least 5 buildings?"
   ]
  },
  {
   "cell_type": "code",
   "execution_count": null,
   "id": "62e51913-b5cc-4c26-a90f-fd82480d7568",
   "metadata": {},
   "outputs": [],
   "source": []
  },
  {
   "cell_type": "markdown",
   "id": "a5ec3b84-1288-4e61-8f24-5e53b6490e73",
   "metadata": {},
   "source": [
    "### 10) How many total floors do all the buildings have, combined?"
   ]
  },
  {
   "cell_type": "code",
   "execution_count": null,
   "id": "bccf0ddb-e30a-436d-9be3-053cc26defbd",
   "metadata": {},
   "outputs": [],
   "source": []
  },
  {
   "cell_type": "markdown",
   "id": "6ffae15d-d9c3-466d-8abb-99ddecb2f2dd",
   "metadata": {},
   "source": [
    "### 11) How many of the buildings have their own Wikipedia page?\n",
    "\n",
    "For this, you'll need to query the row elements again; the information won't have been extracted into your `DataFrame`. \n",
    "\n",
    "(Hint: Whether a building has its own Wikipedia page isn't an explicit piece of data, but something you can infer from the presence of a particular sub-element.)"
   ]
  },
  {
   "cell_type": "code",
   "execution_count": null,
   "id": "c1432c68-b0f9-4f29-82fd-bd3f3c7ffdf9",
   "metadata": {},
   "outputs": [],
   "source": []
  },
  {
   "cell_type": "markdown",
   "id": "317eb366-55fb-446d-a105-22dffe4b9db3",
   "metadata": {},
   "source": [
    "### 12) How many have an image?\n",
    "\n",
    "You could do this by testing for the presence of another element:"
   ]
  },
  {
   "cell_type": "code",
   "execution_count": null,
   "id": "ab25e8c3-4744-4198-9707-9845a843053e",
   "metadata": {},
   "outputs": [],
   "source": []
  },
  {
   "cell_type": "markdown",
   "id": "630b88de-02df-45e4-8cf6-f15eb5507ae3",
   "metadata": {},
   "source": [
    "Or through information that's already in your `DataFrame`:"
   ]
  },
  {
   "cell_type": "code",
   "execution_count": null,
   "id": "5434878d-7c14-405c-bb6d-5547a06d398c",
   "metadata": {},
   "outputs": [],
   "source": []
  },
  {
   "cell_type": "markdown",
   "id": "e3a7067b",
   "metadata": {},
   "source": [
    "### Bonus challenge\n",
    "\n",
    "If we tried to run the same code on https://en.wikipedia.org/wiki/List_of_tallest_buildings_in_New_York_City instead, the results wouldn't be quite right. Try it. Then, examining the HTML of that page, try to figure out why.\n",
    "\n",
    "If you want an extra-extra challenge, try writing code that would parse that table correctly."
   ]
  },
  {
   "cell_type": "code",
   "execution_count": null,
   "id": "2e9ba66c",
   "metadata": {},
   "outputs": [],
   "source": []
  },
  {
   "cell_type": "markdown",
   "id": "fac108f8-9c41-451a-a481-f2bfde3372e5",
   "metadata": {},
   "source": [
    "---\n",
    "\n",
    "---\n",
    "\n",
    "---"
   ]
  }
 ],
 "metadata": {
  "kernelspec": {
   "display_name": "Python 3 (ipykernel)",
   "language": "python",
   "name": "python3"
  },
  "language_info": {
   "codemirror_mode": {
    "name": "ipython",
    "version": 3
   },
   "file_extension": ".py",
   "mimetype": "text/x-python",
   "name": "python",
   "nbconvert_exporter": "python",
   "pygments_lexer": "ipython3",
   "version": "3.11.9"
  }
 },
 "nbformat": 4,
 "nbformat_minor": 5
}
